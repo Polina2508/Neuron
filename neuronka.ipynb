{
  "nbformat": 4,
  "nbformat_minor": 0,
  "metadata": {
    "colab": {
      "name": "neuronka.ipynb",
      "provenance": [],
      "toc_visible": true,
      "mount_file_id": "1_KILTUBkWNHdFBafl-mnr-U6YxDUs34R",
      "authorship_tag": "ABX9TyNfe8UtF7NTguPAhXBlvoLr",
      "include_colab_link": true
    },
    "kernelspec": {
      "name": "python3",
      "display_name": "Python 3"
    }
  },
  "cells": [
    {
      "cell_type": "markdown",
      "metadata": {
        "id": "view-in-github",
        "colab_type": "text"
      },
      "source": [
        "<a href=\"https://colab.research.google.com/github/Polina2508/Neuron/blob/main/neuronka.ipynb\" target=\"_parent\"><img src=\"https://colab.research.google.com/assets/colab-badge.svg\" alt=\"Open In Colab\"/></a>"
      ]
    },
    {
      "cell_type": "code",
      "metadata": {
        "colab": {
          "base_uri": "https://localhost:8080/"
        },
        "id": "LONu_Y8sUKw9",
        "outputId": "840673c7-074f-4c26-edd7-c5ef976622c5"
      },
      "source": [
        "pip install scikit-plot"
      ],
      "execution_count": 2,
      "outputs": [
        {
          "output_type": "stream",
          "text": [
            "Collecting scikit-plot\n",
            "  Downloading https://files.pythonhosted.org/packages/7c/47/32520e259340c140a4ad27c1b97050dd3254fdc517b1d59974d47037510e/scikit_plot-0.3.7-py3-none-any.whl\n",
            "Requirement already satisfied: matplotlib>=1.4.0 in /usr/local/lib/python3.6/dist-packages (from scikit-plot) (3.2.2)\n",
            "Requirement already satisfied: joblib>=0.10 in /usr/local/lib/python3.6/dist-packages (from scikit-plot) (1.0.0)\n",
            "Requirement already satisfied: scikit-learn>=0.18 in /usr/local/lib/python3.6/dist-packages (from scikit-plot) (0.22.2.post1)\n",
            "Requirement already satisfied: scipy>=0.9 in /usr/local/lib/python3.6/dist-packages (from scikit-plot) (1.4.1)\n",
            "Requirement already satisfied: pyparsing!=2.0.4,!=2.1.2,!=2.1.6,>=2.0.1 in /usr/local/lib/python3.6/dist-packages (from matplotlib>=1.4.0->scikit-plot) (2.4.7)\n",
            "Requirement already satisfied: cycler>=0.10 in /usr/local/lib/python3.6/dist-packages (from matplotlib>=1.4.0->scikit-plot) (0.10.0)\n",
            "Requirement already satisfied: kiwisolver>=1.0.1 in /usr/local/lib/python3.6/dist-packages (from matplotlib>=1.4.0->scikit-plot) (1.3.1)\n",
            "Requirement already satisfied: numpy>=1.11 in /usr/local/lib/python3.6/dist-packages (from matplotlib>=1.4.0->scikit-plot) (1.19.5)\n",
            "Requirement already satisfied: python-dateutil>=2.1 in /usr/local/lib/python3.6/dist-packages (from matplotlib>=1.4.0->scikit-plot) (2.8.1)\n",
            "Requirement already satisfied: six in /usr/local/lib/python3.6/dist-packages (from cycler>=0.10->matplotlib>=1.4.0->scikit-plot) (1.15.0)\n",
            "Installing collected packages: scikit-plot\n",
            "Successfully installed scikit-plot-0.3.7\n"
          ],
          "name": "stdout"
        }
      ]
    },
    {
      "cell_type": "code",
      "metadata": {
        "id": "VwFAob38TkB9"
      },
      "source": [
        "import numpy as np\n",
        "import keras\n",
        "from  keras.preprocessing.text import Tokenizer\n",
        "from keras.preprocessing.sequence import pad_sequences\n",
        "import os\n",
        "import pandas as pd\n",
        "from keras.utils import to_categorical\n",
        "import matplotlib.pyplot as plt\n",
        "from sklearn.metrics import classification_report\n",
        "import scikitplot\n",
        "from scikitplot.metrics import plot_confusion_matrix"
      ],
      "execution_count": 4,
      "outputs": []
    },
    {
      "cell_type": "markdown",
      "metadata": {
        "id": "96ULf4INmVsO"
      },
      "source": [
        "Создаем датафрейм для чтения и анализа данных\n"
      ]
    },
    {
      "cell_type": "code",
      "metadata": {
        "id": "IUp33DaqUTdb"
      },
      "source": [
        "df_train = pd.read_csv('/content/drive/MyDrive/neu/train.txt', header =None, sep =';', names = ['Input','Sentiment'], encoding='utf-8')\n",
        "df_test = pd.read_csv('/content/drive/MyDrive/neu/test.txt', header = None, sep =';', names = ['Input','Sentiment'],encoding='utf-8')\n",
        "df_val=pd.read_csv('/content/drive/MyDrive/neu/val.txt', header=None,sep=';',names=['Input','Sentiment'],encoding='utf-8')"
      ],
      "execution_count": 5,
      "outputs": []
    },
    {
      "cell_type": "code",
      "metadata": {
        "colab": {
          "base_uri": "https://localhost:8080/"
        },
        "id": "byAros7IXNq9",
        "outputId": "d3457e5d-ab02-4907-ec11-92d4a68761d4"
      },
      "source": [
        "df_train.Sentiment.value_counts()"
      ],
      "execution_count": 6,
      "outputs": [
        {
          "output_type": "execute_result",
          "data": {
            "text/plain": [
              "joy         5064\n",
              "sadness     4099\n",
              "anger       2159\n",
              "fear        1937\n",
              "love        1304\n",
              "surprise     572\n",
              "cry          567\n",
              "thanks       298\n",
              "Name: Sentiment, dtype: int64"
            ]
          },
          "metadata": {
            "tags": []
          },
          "execution_count": 6
        }
      ]
    },
    {
      "cell_type": "markdown",
      "metadata": {
        "id": "RY3GQKcJmsJW"
      },
      "source": [
        "Читаем данные обущения и проверки"
      ]
    },
    {
      "cell_type": "code",
      "metadata": {
        "id": "-0K51biQXWRK"
      },
      "source": [
        "X=df_train['Input']"
      ],
      "execution_count": 7,
      "outputs": []
    },
    {
      "cell_type": "code",
      "metadata": {
        "id": "8OpmvXGcXXHq"
      },
      "source": [
        "l=[]\n",
        "for i in X:\n",
        "  l.append(len(i))"
      ],
      "execution_count": 8,
      "outputs": []
    },
    {
      "cell_type": "code",
      "metadata": {
        "colab": {
          "base_uri": "https://localhost:8080/",
          "height": 294
        },
        "id": "CLmFMW5nXXQO",
        "outputId": "473dfa0c-98a4-4244-8c5e-96c73a020a88"
      },
      "source": [
        "len1=pd.DataFrame(l)\n",
        "len1.describe()"
      ],
      "execution_count": 9,
      "outputs": [
        {
          "output_type": "execute_result",
          "data": {
            "text/html": [
              "<div>\n",
              "<style scoped>\n",
              "    .dataframe tbody tr th:only-of-type {\n",
              "        vertical-align: middle;\n",
              "    }\n",
              "\n",
              "    .dataframe tbody tr th {\n",
              "        vertical-align: top;\n",
              "    }\n",
              "\n",
              "    .dataframe thead th {\n",
              "        text-align: right;\n",
              "    }\n",
              "</style>\n",
              "<table border=\"1\" class=\"dataframe\">\n",
              "  <thead>\n",
              "    <tr style=\"text-align: right;\">\n",
              "      <th></th>\n",
              "      <th>0</th>\n",
              "    </tr>\n",
              "  </thead>\n",
              "  <tbody>\n",
              "    <tr>\n",
              "      <th>count</th>\n",
              "      <td>16000.000000</td>\n",
              "    </tr>\n",
              "    <tr>\n",
              "      <th>mean</th>\n",
              "      <td>96.845750</td>\n",
              "    </tr>\n",
              "    <tr>\n",
              "      <th>std</th>\n",
              "      <td>55.905329</td>\n",
              "    </tr>\n",
              "    <tr>\n",
              "      <th>min</th>\n",
              "      <td>7.000000</td>\n",
              "    </tr>\n",
              "    <tr>\n",
              "      <th>25%</th>\n",
              "      <td>53.000000</td>\n",
              "    </tr>\n",
              "    <tr>\n",
              "      <th>50%</th>\n",
              "      <td>86.000000</td>\n",
              "    </tr>\n",
              "    <tr>\n",
              "      <th>75%</th>\n",
              "      <td>129.000000</td>\n",
              "    </tr>\n",
              "    <tr>\n",
              "      <th>max</th>\n",
              "      <td>300.000000</td>\n",
              "    </tr>\n",
              "  </tbody>\n",
              "</table>\n",
              "</div>"
            ],
            "text/plain": [
              "                  0\n",
              "count  16000.000000\n",
              "mean      96.845750\n",
              "std       55.905329\n",
              "min        7.000000\n",
              "25%       53.000000\n",
              "50%       86.000000\n",
              "75%      129.000000\n",
              "max      300.000000"
            ]
          },
          "metadata": {
            "tags": []
          },
          "execution_count": 9
        }
      ]
    },
    {
      "cell_type": "markdown",
      "metadata": {
        "id": "v-Tdz-2pm85F"
      },
      "source": [
        "Исправляем длину ввода встраиваемых слоев"
      ]
    },
    {
      "cell_type": "code",
      "metadata": {
        "id": "K324uGJmXXce"
      },
      "source": [
        "c=[]\n",
        "for i in range(7,301):\n",
        "   ct=0\n",
        "   for k in l:\n",
        "     if k==i:\n",
        "       ct+=1\n",
        "   c.append(ct)"
      ],
      "execution_count": 10,
      "outputs": []
    },
    {
      "cell_type": "code",
      "metadata": {
        "colab": {
          "base_uri": "https://localhost:8080/",
          "height": 266
        },
        "id": "q-uux3ahXk-L",
        "outputId": "ae73929e-d450-44a7-da62-a99b6b0c9740"
      },
      "source": [
        "plt.bar(range(7,301),c)\n",
        "plt.show()"
      ],
      "execution_count": 11,
      "outputs": [
        {
          "output_type": "display_data",
          "data": {
            "image/png": "[encoded data removed]",
            "text/plain": [
              "<Figure size 432x288 with 1 Axes>"
            ]
          },
          "metadata": {
            "tags": [],
            "needs_background": "light"
          }
        }
      ]
    },
    {
      "cell_type": "markdown",
      "metadata": {
        "id": "1EEcfZxfnN4G"
      },
      "source": [
        "Преобразовываем предложения в векторы слов"
      ]
    },
    {
      "cell_type": "code",
      "metadata": {
        "id": "bXRGpuxzXpXj"
      },
      "source": [
        "tokenizer=Tokenizer(15212,lower=True,oov_token='UNK')\n",
        "tokenizer.fit_on_texts(X)"
      ],
      "execution_count": 12,
      "outputs": []
    },
    {
      "cell_type": "code",
      "metadata": {
        "colab": {
          "base_uri": "https://localhost:8080/"
        },
        "id": "XH8jyITCXsCr",
        "outputId": "2406e194-5a51-4217-d501-4d7719f4100c"
      },
      "source": [
        "len(tokenizer.word_index)"
      ],
      "execution_count": 13,
      "outputs": [
        {
          "output_type": "execute_result",
          "data": {
            "text/plain": [
              "15214"
            ]
          },
          "metadata": {
            "tags": []
          },
          "execution_count": 13
        }
      ]
    },
    {
      "cell_type": "code",
      "metadata": {
        "id": "wXlnqD3MXzkz"
      },
      "source": [
        "X_train=tokenizer.texts_to_sequences(X)\n",
        "X_train_pad=pad_sequences(X_train,maxlen=80,padding='post')"
      ],
      "execution_count": 14,
      "outputs": []
    },
    {
      "cell_type": "code",
      "metadata": {
        "id": "-zEq6g8rX2L7"
      },
      "source": [
        "df_train['Sentiment']=df_train.Sentiment.replace({'joy':0,'anger':1,'love':2,'sadness':3,'fear':4,'surprise':5, 'cry':6, 'thanks':7})"
      ],
      "execution_count": 15,
      "outputs": []
    },
    {
      "cell_type": "code",
      "metadata": {
        "id": "zKD4SbYGX5Tt"
      },
      "source": [
        "Y_train=df_train['Sentiment'].values"
      ],
      "execution_count": 16,
      "outputs": []
    },
    {
      "cell_type": "markdown",
      "metadata": {
        "id": "-bNrYCq1nzOK"
      },
      "source": [
        "one hot encoding. преобразовывем данные в матрицу"
      ]
    },
    {
      "cell_type": "code",
      "metadata": {
        "id": "3H3z7esLX78v"
      },
      "source": [
        "Y_train_f=to_categorical(Y_train)"
      ],
      "execution_count": 17,
      "outputs": []
    },
    {
      "cell_type": "code",
      "metadata": {
        "colab": {
          "base_uri": "https://localhost:8080/"
        },
        "id": "s-s8agR_X87l",
        "outputId": "7c7e70d2-598f-4e2e-f6cf-20833b4bd7ce"
      },
      "source": [
        "Y_train_f[:6]"
      ],
      "execution_count": 18,
      "outputs": [
        {
          "output_type": "execute_result",
          "data": {
            "text/plain": [
              "array([[0., 0., 0., 0., 0., 0., 1., 0.],\n",
              "       [0., 0., 0., 0., 0., 0., 1., 0.],\n",
              "       [0., 1., 0., 0., 0., 0., 0., 0.],\n",
              "       [0., 0., 1., 0., 0., 0., 0., 0.],\n",
              "       [0., 1., 0., 0., 0., 0., 0., 0.],\n",
              "       [0., 0., 0., 0., 0., 0., 1., 0.]], dtype=float32)"
            ]
          },
          "metadata": {
            "tags": []
          },
          "execution_count": 18
        }
      ]
    },
    {
      "cell_type": "code",
      "metadata": {
        "id": "u-8QlM_FYDZ0"
      },
      "source": [
        "X_val=df_val['Input']\n",
        "Y_val=df_val.Sentiment.replace({'joy':0,'anger':1,'love':2,'sadness':3,'fear':4,'surprise':5, 'cry':6, 'thanks':7})"
      ],
      "execution_count": 19,
      "outputs": []
    },
    {
      "cell_type": "code",
      "metadata": {
        "id": "IPR0gw6iYFZ6"
      },
      "source": [
        "X_val_f=tokenizer.texts_to_sequences(X_val)\n",
        "X_val_pad=pad_sequences(X_val_f,maxlen=80,padding='post')"
      ],
      "execution_count": 20,
      "outputs": []
    },
    {
      "cell_type": "code",
      "metadata": {
        "id": "9BOC8fuTYHRB"
      },
      "source": [
        "Y_val_f=to_categorical(Y_val)"
      ],
      "execution_count": 21,
      "outputs": []
    },
    {
      "cell_type": "code",
      "metadata": {
        "colab": {
          "base_uri": "https://localhost:8080/"
        },
        "id": "JE7xWHOIYJY_",
        "outputId": "862d47ba-e76f-4586-ae78-bd6ef559cbbc"
      },
      "source": [
        "Y_val_f[:6]"
      ],
      "execution_count": 22,
      "outputs": [
        {
          "output_type": "execute_result",
          "data": {
            "text/plain": [
              "array([[0., 0., 0., 0., 0., 0., 1., 0.],\n",
              "       [0., 0., 0., 0., 0., 0., 1., 0.],\n",
              "       [0., 0., 1., 0., 0., 0., 0., 0.],\n",
              "       [0., 1., 0., 0., 0., 0., 0., 0.],\n",
              "       [0., 0., 0., 0., 0., 0., 0., 1.],\n",
              "       [0., 0., 0., 0., 0., 0., 0., 1.]], dtype=float32)"
            ]
          },
          "metadata": {
            "tags": []
          },
          "execution_count": 22
        }
      ]
    },
    {
      "cell_type": "code",
      "metadata": {
        "id": "XijCvtfNYO3H"
      },
      "source": [
        "from keras.models import Sequential\n",
        "from keras.layers import LSTM,Bidirectional,Dense,Embedding,Dropout"
      ],
      "execution_count": 23,
      "outputs": []
    },
    {
      "cell_type": "markdown",
      "metadata": {
        "id": "Wb3XO4TpoG3A"
      },
      "source": [
        "Создаем модель нейронки"
      ]
    },
    {
      "cell_type": "code",
      "metadata": {
        "colab": {
          "base_uri": "https://localhost:8080/"
        },
        "id": "CT-HQVAQYSAu",
        "outputId": "bd6c7eda-6c7b-4813-b0ef-dc4c68e51b63"
      },
      "source": [
        "model=Sequential()\n",
        "model.add(Embedding(15214,64,input_length=80))\n",
        "model.add(Dropout(0.6))\n",
        "model.add(Bidirectional(LSTM(80,return_sequences=True)))\n",
        "model.add(Bidirectional(LSTM(160)))\n",
        "model.add(Dense(8,activation='softmax'))\n",
        "print(model.summary())"
      ],
      "execution_count": 24,
      "outputs": [
        {
          "output_type": "stream",
          "text": [
            "Model: \"sequential\"\n",
            "_________________________________________________________________\n",
            "Layer (type)                 Output Shape              Param #   \n",
            "=================================================================\n",
            "embedding (Embedding)        (None, 80, 64)            973696    \n",
            "_________________________________________________________________\n",
            "dropout (Dropout)            (None, 80, 64)            0         \n",
            "_________________________________________________________________\n",
            "bidirectional (Bidirectional (None, 80, 160)           92800     \n",
            "_________________________________________________________________\n",
            "bidirectional_1 (Bidirection (None, 320)               410880    \n",
            "_________________________________________________________________\n",
            "dense (Dense)                (None, 8)                 2568      \n",
            "=================================================================\n",
            "Total params: 1,479,944\n",
            "Trainable params: 1,479,944\n",
            "Non-trainable params: 0\n",
            "_________________________________________________________________\n",
            "None\n"
          ],
          "name": "stdout"
        }
      ]
    },
    {
      "cell_type": "markdown",
      "metadata": {
        "id": "t3BA7iuvoVVk"
      },
      "source": [
        "Запускаем модель"
      ]
    },
    {
      "cell_type": "code",
      "metadata": {
        "id": "bH-UJoetYZr-"
      },
      "source": [
        "model.compile(optimizer='adam',loss='categorical_crossentropy',metrics=['accuracy'])"
      ],
      "execution_count": 25,
      "outputs": []
    },
    {
      "cell_type": "code",
      "metadata": {
        "colab": {
          "base_uri": "https://localhost:8080/"
        },
        "id": "0aILLAcxYdx3",
        "outputId": "391f5854-0169-420a-ebff-cd97efd9d1b9"
      },
      "source": [
        "hist=model.fit(X_train_pad,Y_train_f,epochs=15,validation_data=(X_val_pad,Y_val_f))"
      ],
      "execution_count": 26,
      "outputs": [
        {
          "output_type": "stream",
          "text": [
            "Epoch 1/15\n",
            "500/500 [==============================] - 228s 445ms/step - loss: 1.6726 - accuracy: 0.3755 - val_loss: 1.4604 - val_accuracy: 0.4650\n",
            "Epoch 2/15\n",
            "500/500 [==============================] - 214s 429ms/step - loss: 0.8044 - accuracy: 0.7092 - val_loss: 1.0490 - val_accuracy: 0.6560\n",
            "Epoch 3/15\n",
            "500/500 [==============================] - 216s 431ms/step - loss: 0.5022 - accuracy: 0.8402 - val_loss: 1.0042 - val_accuracy: 0.6690\n",
            "Epoch 4/15\n",
            "500/500 [==============================] - 216s 432ms/step - loss: 0.3941 - accuracy: 0.8732 - val_loss: 0.9403 - val_accuracy: 0.6795\n",
            "Epoch 5/15\n",
            "500/500 [==============================] - 216s 431ms/step - loss: 0.3392 - accuracy: 0.8901 - val_loss: 0.9528 - val_accuracy: 0.6845\n",
            "Epoch 6/15\n",
            "500/500 [==============================] - 214s 429ms/step - loss: 0.3116 - accuracy: 0.8990 - val_loss: 0.8920 - val_accuracy: 0.6825\n",
            "Epoch 7/15\n",
            "500/500 [==============================] - 213s 425ms/step - loss: 0.2824 - accuracy: 0.9042 - val_loss: 0.9074 - val_accuracy: 0.6730\n",
            "Epoch 8/15\n",
            "500/500 [==============================] - 215s 431ms/step - loss: 0.2514 - accuracy: 0.9135 - val_loss: 1.0570 - val_accuracy: 0.6825\n",
            "Epoch 9/15\n",
            "500/500 [==============================] - 220s 440ms/step - loss: 0.2324 - accuracy: 0.9185 - val_loss: 0.9575 - val_accuracy: 0.6790\n",
            "Epoch 10/15\n",
            "500/500 [==============================] - 226s 452ms/step - loss: 0.2032 - accuracy: 0.9297 - val_loss: 1.1710 - val_accuracy: 0.6705\n",
            "Epoch 11/15\n",
            "500/500 [==============================] - 219s 437ms/step - loss: 0.1909 - accuracy: 0.9320 - val_loss: 1.1565 - val_accuracy: 0.6710\n",
            "Epoch 12/15\n",
            "500/500 [==============================] - 219s 438ms/step - loss: 0.1663 - accuracy: 0.9422 - val_loss: 1.2079 - val_accuracy: 0.6820\n",
            "Epoch 13/15\n",
            "500/500 [==============================] - 226s 452ms/step - loss: 0.1606 - accuracy: 0.9440 - val_loss: 1.3138 - val_accuracy: 0.6850\n",
            "Epoch 14/15\n",
            "500/500 [==============================] - 217s 434ms/step - loss: 0.1523 - accuracy: 0.9463 - val_loss: 1.3606 - val_accuracy: 0.6770\n",
            "Epoch 15/15\n",
            "500/500 [==============================] - 217s 435ms/step - loss: 0.1456 - accuracy: 0.9478 - val_loss: 1.4051 - val_accuracy: 0.6815\n"
          ],
          "name": "stdout"
        }
      ]
    },
    {
      "cell_type": "markdown",
      "metadata": {
        "id": "ZHNzm__loc8C"
      },
      "source": [
        "Строим графики потерь и точности"
      ]
    },
    {
      "cell_type": "code",
      "metadata": {
        "colab": {
          "base_uri": "https://localhost:8080/",
          "height": 265
        },
        "id": "52N4S_tPjK6W",
        "outputId": "dd1b3e02-164a-4aa5-b383-01cf4a28f81b"
      },
      "source": [
        "plt.plot(hist.history['accuracy'],c='b',label='train')\n",
        "plt.plot(hist.history['val_accuracy'],c='r',label='validation')\n",
        "plt.legend(loc='lower right')\n",
        "plt.show()"
      ],
      "execution_count": 27,
      "outputs": [
        {
          "output_type": "display_data",
          "data": {
            "image/png": "[encoded data removed]",
            "text/plain": [
              "<Figure size 432x288 with 1 Axes>"
            ]
          },
          "metadata": {
            "tags": [],
            "needs_background": "light"
          }
        }
      ]
    },
    {
      "cell_type": "code",
      "metadata": {
        "colab": {
          "base_uri": "https://localhost:8080/",
          "height": 265
        },
        "id": "jx4mCfVnjNKl",
        "outputId": "1b47e4e9-c5f6-4643-bc5a-6b66b6690c8e"
      },
      "source": [
        "plt.plot(hist.history['loss'],c='orange',label='train')\n",
        "plt.plot(hist.history['val_loss'],c='g',label='validation')\n",
        "plt.legend(loc='upper right')\n",
        "plt.show()"
      ],
      "execution_count": 28,
      "outputs": [
        {
          "output_type": "display_data",
          "data": {
            "image/png": "[encoded data removed]",
            "text/plain": [
              "<Figure size 432x288 with 1 Axes>"
            ]
          },
          "metadata": {
            "tags": [],
            "needs_background": "light"
          }
        }
      ]
    },
    {
      "cell_type": "markdown",
      "metadata": {
        "id": "lWQ5N1X7ornM"
      },
      "source": [
        "Проверка тестовых данных"
      ]
    },
    {
      "cell_type": "code",
      "metadata": {
        "id": "oruZ4ewLjQl0"
      },
      "source": [
        "X_test=df_test['Input']\n",
        "Y_test=df_test.Sentiment.replace({'joy':0,'anger':1,'love':2,'sadness':3,'fear':4,'surprise':5, 'cry':6, 'thanks':7})"
      ],
      "execution_count": 29,
      "outputs": []
    },
    {
      "cell_type": "code",
      "metadata": {
        "id": "XL37LLt9jTrP"
      },
      "source": [
        "X_test_f=tokenizer.texts_to_sequences(X_test)\n",
        "X_test_pad=pad_sequences(X_test_f,maxlen=80,padding='post')"
      ],
      "execution_count": 30,
      "outputs": []
    },
    {
      "cell_type": "code",
      "metadata": {
        "id": "HfoMx0RojWM2"
      },
      "source": [
        "Y_test_f=to_categorical(Y_test)"
      ],
      "execution_count": 31,
      "outputs": []
    },
    {
      "cell_type": "code",
      "metadata": {
        "colab": {
          "base_uri": "https://localhost:8080/"
        },
        "id": "YvCMb6i2jZ9l",
        "outputId": "80365f44-aa28-4b64-95d8-b97b3e3cd093"
      },
      "source": [
        "X_test_pad.shape"
      ],
      "execution_count": 32,
      "outputs": [
        {
          "output_type": "execute_result",
          "data": {
            "text/plain": [
              "(2000, 80)"
            ]
          },
          "metadata": {
            "tags": []
          },
          "execution_count": 32
        }
      ]
    },
    {
      "cell_type": "code",
      "metadata": {
        "colab": {
          "base_uri": "https://localhost:8080/"
        },
        "id": "5n-dCEU8jbYQ",
        "outputId": "a62f2e4b-8692-42f9-d61e-f376855e1bad"
      },
      "source": [
        "Y_test_f[:7]"
      ],
      "execution_count": 33,
      "outputs": [
        {
          "output_type": "execute_result",
          "data": {
            "text/plain": [
              "array([[0., 0., 0., 0., 0., 0., 1., 0.],\n",
              "       [0., 0., 0., 0., 0., 0., 1., 0.],\n",
              "       [0., 0., 0., 0., 0., 0., 1., 0.],\n",
              "       [0., 0., 0., 0., 0., 0., 0., 1.],\n",
              "       [0., 0., 0., 0., 0., 0., 1., 0.],\n",
              "       [0., 0., 0., 0., 1., 0., 0., 0.],\n",
              "       [0., 1., 0., 0., 0., 0., 0., 0.]], dtype=float32)"
            ]
          },
          "metadata": {
            "tags": []
          },
          "execution_count": 33
        }
      ]
    },
    {
      "cell_type": "markdown",
      "metadata": {
        "id": "4lnXsApMo3DN"
      },
      "source": [
        "Точность тестовых данных"
      ]
    },
    {
      "cell_type": "code",
      "metadata": {
        "colab": {
          "base_uri": "https://localhost:8080/"
        },
        "id": "wTzr4DVljguC",
        "outputId": "2f0a7281-90da-4006-a766-8f4271ed9806"
      },
      "source": [
        "model.evaluate(X_test_pad,Y_test_f)"
      ],
      "execution_count": 34,
      "outputs": [
        {
          "output_type": "stream",
          "text": [
            "63/63 [==============================] - 8s 125ms/step - loss: 1.3283 - accuracy: 0.6955\n"
          ],
          "name": "stdout"
        },
        {
          "output_type": "execute_result",
          "data": {
            "text/plain": [
              "[1.3282802104949951, 0.6955000162124634]"
            ]
          },
          "metadata": {
            "tags": []
          },
          "execution_count": 34
        }
      ]
    },
    {
      "cell_type": "markdown",
      "metadata": {
        "id": "TjsY18jSqQlL"
      },
      "source": [
        "Построение матрицы путаницы(хз нужно ли)"
      ]
    },
    {
      "cell_type": "code",
      "metadata": {
        "id": "WpA1e95Ojnj0"
      },
      "source": [
        "Y_pred=np.argmax(model.predict(X_test_pad), axis=-1)\n"
      ],
      "execution_count": 35,
      "outputs": []
    },
    {
      "cell_type": "code",
      "metadata": {
        "colab": {
          "base_uri": "https://localhost:8080/",
          "height": 311
        },
        "id": "aHJ8WDkpjtQH",
        "outputId": "c3e7b63d-97ff-492d-be37-f4c080271cd4"
      },
      "source": [
        "plot_confusion_matrix(Y_test,Y_pred)"
      ],
      "execution_count": 36,
      "outputs": [
        {
          "output_type": "execute_result",
          "data": {
            "text/plain": [
              "<matplotlib.axes._subplots.AxesSubplot at 0x7f2edbfdf2b0>"
            ]
          },
          "metadata": {
            "tags": []
          },
          "execution_count": 36
        },
        {
          "output_type": "display_data",
          "data": {
            "image/png": "[encoded data removed]",
            "text/plain": [
              "<Figure size 432x288 with 2 Axes>"
            ]
          },
          "metadata": {
            "tags": [],
            "needs_background": "light"
          }
        }
      ]
    },
    {
      "cell_type": "code",
      "metadata": {
        "colab": {
          "base_uri": "https://localhost:8080/"
        },
        "id": "SszfNbFrjw0J",
        "outputId": "ddb2ef88-7422-4e2b-a2ea-a6f5e278b4d0"
      },
      "source": [
        "print(classification_report(Y_test,Y_pred))"
      ],
      "execution_count": 37,
      "outputs": [
        {
          "output_type": "stream",
          "text": [
            "              precision    recall  f1-score   support\n",
            "\n",
            "           0       0.58      0.95      0.72       430\n",
            "           1       0.94      0.92      0.93       275\n",
            "           2       0.85      0.75      0.80       159\n",
            "           3       0.60      0.95      0.74       360\n",
            "           4       0.89      0.90      0.90       224\n",
            "           5       0.81      0.71      0.76        66\n",
            "           6       0.48      0.05      0.09       221\n",
            "           7       0.55      0.02      0.04       265\n",
            "\n",
            "    accuracy                           0.70      2000\n",
            "   macro avg       0.71      0.66      0.62      2000\n",
            "weighted avg       0.68      0.70      0.62      2000\n",
            "\n"
          ],
          "name": "stdout"
        }
      ]
    },
    {
      "cell_type": "markdown",
      "metadata": {
        "id": "a8ApbEFEqCeT"
      },
      "source": [
        "Финалочка"
      ]
    },
    {
      "cell_type": "code",
      "metadata": {
        "id": "na4b51J3jz1r"
      },
      "source": [
        "def get_key(value):\n",
        "    dictionary={'😋':0,'😡':1,'😍':2,'😪':3,'😰':4,'🤪':5, '😭️':6, '🤗️':7}\n",
        "    for key,val in dictionary.items():\n",
        "          if (val==value):\n",
        "            return key"
      ],
      "execution_count": 61,
      "outputs": []
    },
    {
      "cell_type": "code",
      "metadata": {
        "id": "viJV_ZTmEOxx"
      },
      "source": [
        "def predict(sentence):\n",
        "  sentence_lst=[]\n",
        "  sentence_lst.append(sentence)\n",
        "  sentence_seq=tokenizer.texts_to_sequences(sentence_lst)\n",
        "  sentence_padded=pad_sequences(sentence_seq,maxlen=8,padding='post')\n",
        "  ans=get_key(np.argmax(sentence_padded))\n",
        "  print(sentence,ans)\n",
        "  print(sentence_padded)\n",
        "    \n",
        "  \n",
        " \n",
        "\n",
        "  "
      ],
      "execution_count": 172,
      "outputs": []
    },
    {
      "cell_type": "code",
      "metadata": {
        "colab": {
          "base_uri": "https://localhost:8080/"
        },
        "id": "NV_OPUEX2gxc",
        "outputId": "a0a7a3d7-2d44-4972-f1d6-b843da6836c1"
      },
      "source": [
        "predict(str(input('Enter a massage : ')))\n"
      ],
      "execution_count": 173,
      "outputs": [
        {
          "output_type": "stream",
          "text": [
            "Enter a massage : i hate you\n",
            "i hate you 😡\n",
            "[[  2 232  31   0   0   0   0   0]]\n"
          ],
          "name": "stdout"
        }
      ]
    }
  ]
}