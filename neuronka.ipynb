{
  "nbformat": 4,
  "nbformat_minor": 0,
  "metadata": {
    "colab": {
      "name": "neuronka.ipynb",
      "provenance": [],
      "mount_file_id": "1_KILTUBkWNHdFBafl-mnr-U6YxDUs34R",
      "authorship_tag": "ABX9TyP6w7GbeiaB7Svd22g/DNOJ",
      "include_colab_link": true
    },
    "kernelspec": {
      "name": "python3",
      "display_name": "Python 3"
    }
  },
  "cells": [
    {
      "cell_type": "markdown",
      "metadata": {
        "id": "view-in-github",
        "colab_type": "text"
      },
      "source": [
        "<a href=\"https://colab.research.google.com/github/Polina2508/Neuron/blob/main/neuronka.ipynb\" target=\"_parent\"><img src=\"https://colab.research.google.com/assets/colab-badge.svg\" alt=\"Open In Colab\"/></a>"
      ]
    },
    {
      "cell_type": "code",
      "metadata": {
        "colab": {
          "base_uri": "https://localhost:8080/"
        },
        "id": "LONu_Y8sUKw9",
        "outputId": "c6643bf9-dcaf-4761-ec3d-316973f1643a"
      },
      "source": [
        "pip install scikit-plot"
      ],
      "execution_count": 1,
      "outputs": [
        {
          "output_type": "stream",
          "text": [
            "Collecting scikit-plot\n",
            "  Downloading https://files.pythonhosted.org/packages/7c/47/32520e259340c140a4ad27c1b97050dd3254fdc517b1d59974d47037510e/scikit_plot-0.3.7-py3-none-any.whl\n",
            "Requirement already satisfied: scipy>=0.9 in /usr/local/lib/python3.6/dist-packages (from scikit-plot) (1.4.1)\n",
            "Requirement already satisfied: joblib>=0.10 in /usr/local/lib/python3.6/dist-packages (from scikit-plot) (1.0.0)\n",
            "Requirement already satisfied: matplotlib>=1.4.0 in /usr/local/lib/python3.6/dist-packages (from scikit-plot) (3.2.2)\n",
            "Requirement already satisfied: scikit-learn>=0.18 in /usr/local/lib/python3.6/dist-packages (from scikit-plot) (0.22.2.post1)\n",
            "Requirement already satisfied: numpy>=1.13.3 in /usr/local/lib/python3.6/dist-packages (from scipy>=0.9->scikit-plot) (1.19.5)\n",
            "Requirement already satisfied: cycler>=0.10 in /usr/local/lib/python3.6/dist-packages (from matplotlib>=1.4.0->scikit-plot) (0.10.0)\n",
            "Requirement already satisfied: kiwisolver>=1.0.1 in /usr/local/lib/python3.6/dist-packages (from matplotlib>=1.4.0->scikit-plot) (1.3.1)\n",
            "Requirement already satisfied: pyparsing!=2.0.4,!=2.1.2,!=2.1.6,>=2.0.1 in /usr/local/lib/python3.6/dist-packages (from matplotlib>=1.4.0->scikit-plot) (2.4.7)\n",
            "Requirement already satisfied: python-dateutil>=2.1 in /usr/local/lib/python3.6/dist-packages (from matplotlib>=1.4.0->scikit-plot) (2.8.1)\n",
            "Requirement already satisfied: six in /usr/local/lib/python3.6/dist-packages (from cycler>=0.10->matplotlib>=1.4.0->scikit-plot) (1.15.0)\n",
            "Installing collected packages: scikit-plot\n",
            "Successfully installed scikit-plot-0.3.7\n"
          ],
          "name": "stdout"
        }
      ]
    },
    {
      "cell_type": "code",
      "metadata": {
        "id": "VwFAob38TkB9"
      },
      "source": [
        "import numpy as np\n",
        "import keras\n",
        "from  keras.preprocessing.text import Tokenizer\n",
        "from keras.preprocessing.sequence import pad_sequences\n",
        "import os\n",
        "import pandas as pd\n",
        "from keras.utils import to_categorical\n",
        "import matplotlib.pyplot as plt\n",
        "from sklearn.metrics import classification_report\n",
        "import scikitplot\n",
        "from scikitplot.metrics import plot_confusion_matrix"
      ],
      "execution_count": 2,
      "outputs": []
    },
    {
      "cell_type": "markdown",
      "metadata": {
        "id": "96ULf4INmVsO"
      },
      "source": [
        "Создаем датафрейм для чтения и анализа данных\n"
      ]
    },
    {
      "cell_type": "code",
      "metadata": {
        "id": "IUp33DaqUTdb"
      },
      "source": [
        "df_train = pd.read_csv('/content/drive/MyDrive/neu/train.txt', header =None, sep =';', names = ['Input','Sentiment'], encoding='utf-8')\n",
        "df_test = pd.read_csv('/content/drive/MyDrive/neu/test.txt', header = None, sep =';', names = ['Input','Sentiment'],encoding='utf-8')\n",
        "df_val=pd.read_csv('/content/drive/MyDrive/neu/val.txt', header=None,sep=';',names=['Input','Sentiment'],encoding='utf-8')"
      ],
      "execution_count": 3,
      "outputs": []
    },
    {
      "cell_type": "code",
      "metadata": {
        "colab": {
          "base_uri": "https://localhost:8080/"
        },
        "id": "byAros7IXNq9",
        "outputId": "1be87521-ca04-4613-a897-c010b000686c"
      },
      "source": [
        "df_train.Sentiment.value_counts()"
      ],
      "execution_count": 4,
      "outputs": [
        {
          "output_type": "execute_result",
          "data": {
            "text/plain": [
              "joy         5362\n",
              "sadness     4666\n",
              "anger       2159\n",
              "fear        1937\n",
              "love        1304\n",
              "surprise     572\n",
              "Name: Sentiment, dtype: int64"
            ]
          },
          "metadata": {
            "tags": []
          },
          "execution_count": 4
        }
      ]
    },
    {
      "cell_type": "markdown",
      "metadata": {
        "id": "RY3GQKcJmsJW"
      },
      "source": [
        "Читаем данные обущения и проверки"
      ]
    },
    {
      "cell_type": "code",
      "metadata": {
        "id": "-0K51biQXWRK"
      },
      "source": [
        "X=df_train['Input']"
      ],
      "execution_count": 5,
      "outputs": []
    },
    {
      "cell_type": "code",
      "metadata": {
        "id": "8OpmvXGcXXHq"
      },
      "source": [
        "l=[]\n",
        "for i in X:\n",
        "  l.append(len(i))"
      ],
      "execution_count": 6,
      "outputs": []
    },
    {
      "cell_type": "code",
      "metadata": {
        "colab": {
          "base_uri": "https://localhost:8080/",
          "height": 284
        },
        "id": "CLmFMW5nXXQO",
        "outputId": "6aebadde-6219-482c-f3b8-d9d79609c654"
      },
      "source": [
        "len1=pd.DataFrame(l)\n",
        "len1.describe()"
      ],
      "execution_count": 7,
      "outputs": [
        {
          "output_type": "execute_result",
          "data": {
            "text/html": [
              "<div>\n",
              "<style scoped>\n",
              "    .dataframe tbody tr th:only-of-type {\n",
              "        vertical-align: middle;\n",
              "    }\n",
              "\n",
              "    .dataframe tbody tr th {\n",
              "        vertical-align: top;\n",
              "    }\n",
              "\n",
              "    .dataframe thead th {\n",
              "        text-align: right;\n",
              "    }\n",
              "</style>\n",
              "<table border=\"1\" class=\"dataframe\">\n",
              "  <thead>\n",
              "    <tr style=\"text-align: right;\">\n",
              "      <th></th>\n",
              "      <th>0</th>\n",
              "    </tr>\n",
              "  </thead>\n",
              "  <tbody>\n",
              "    <tr>\n",
              "      <th>count</th>\n",
              "      <td>16000.000000</td>\n",
              "    </tr>\n",
              "    <tr>\n",
              "      <th>mean</th>\n",
              "      <td>96.845812</td>\n",
              "    </tr>\n",
              "    <tr>\n",
              "      <th>std</th>\n",
              "      <td>55.904953</td>\n",
              "    </tr>\n",
              "    <tr>\n",
              "      <th>min</th>\n",
              "      <td>7.000000</td>\n",
              "    </tr>\n",
              "    <tr>\n",
              "      <th>25%</th>\n",
              "      <td>53.000000</td>\n",
              "    </tr>\n",
              "    <tr>\n",
              "      <th>50%</th>\n",
              "      <td>86.000000</td>\n",
              "    </tr>\n",
              "    <tr>\n",
              "      <th>75%</th>\n",
              "      <td>129.000000</td>\n",
              "    </tr>\n",
              "    <tr>\n",
              "      <th>max</th>\n",
              "      <td>300.000000</td>\n",
              "    </tr>\n",
              "  </tbody>\n",
              "</table>\n",
              "</div>"
            ],
            "text/plain": [
              "                  0\n",
              "count  16000.000000\n",
              "mean      96.845812\n",
              "std       55.904953\n",
              "min        7.000000\n",
              "25%       53.000000\n",
              "50%       86.000000\n",
              "75%      129.000000\n",
              "max      300.000000"
            ]
          },
          "metadata": {
            "tags": []
          },
          "execution_count": 7
        }
      ]
    },
    {
      "cell_type": "markdown",
      "metadata": {
        "id": "v-Tdz-2pm85F"
      },
      "source": [
        "Исправляем длину ввода встраиваемых слоев"
      ]
    },
    {
      "cell_type": "code",
      "metadata": {
        "id": "K324uGJmXXce"
      },
      "source": [
        "c=[]\n",
        "for i in range(7,301):\n",
        "   ct=0\n",
        "   for k in l:\n",
        "     if k==i:\n",
        "       ct+=1\n",
        "   c.append(ct)"
      ],
      "execution_count": 8,
      "outputs": []
    },
    {
      "cell_type": "code",
      "metadata": {
        "colab": {
          "base_uri": "https://localhost:8080/",
          "height": 266
        },
        "id": "q-uux3ahXk-L",
        "outputId": "f09e8c71-c7eb-4d29-f4d5-f29a5442d53d"
      },
      "source": [
        "plt.bar(range(7,301),c)\n",
        "plt.show()"
      ],
      "execution_count": 9,
      "outputs": [
        {
          "output_type": "display_data",
          "data": {
            "image/png": "[encoded data removed]",
            "text/plain": [
              "<Figure size 432x288 with 1 Axes>"
            ]
          },
          "metadata": {
            "tags": [],
            "needs_background": "light"
          }
        }
      ]
    },
    {
      "cell_type": "markdown",
      "metadata": {
        "id": "1EEcfZxfnN4G"
      },
      "source": [
        "Преобразовываем предложения в векторы слов"
      ]
    },
    {
      "cell_type": "code",
      "metadata": {
        "id": "bXRGpuxzXpXj"
      },
      "source": [
        "tokenizer=Tokenizer(15212,lower=True,oov_token='UNK')\n",
        "tokenizer.fit_on_texts(X)"
      ],
      "execution_count": 10,
      "outputs": []
    },
    {
      "cell_type": "code",
      "metadata": {
        "colab": {
          "base_uri": "https://localhost:8080/"
        },
        "id": "XH8jyITCXsCr",
        "outputId": "fa562bea-eb8a-490a-f026-58a30757969f"
      },
      "source": [
        "len(tokenizer.word_index)"
      ],
      "execution_count": 11,
      "outputs": [
        {
          "output_type": "execute_result",
          "data": {
            "text/plain": [
              "15213"
            ]
          },
          "metadata": {
            "tags": []
          },
          "execution_count": 11
        }
      ]
    },
    {
      "cell_type": "code",
      "metadata": {
        "id": "wXlnqD3MXzkz"
      },
      "source": [
        "X_train=tokenizer.texts_to_sequences(X)\n",
        "X_train_pad=pad_sequences(X_train,maxlen=80,padding='post')"
      ],
      "execution_count": 12,
      "outputs": []
    },
    {
      "cell_type": "code",
      "metadata": {
        "id": "-zEq6g8rX2L7"
      },
      "source": [
        "df_train['Sentiment']=df_train.Sentiment.replace({'joy':0,'anger':1,'love':2,'sadness':3,'fear':4,'surprise':5})"
      ],
      "execution_count": 13,
      "outputs": []
    },
    {
      "cell_type": "code",
      "metadata": {
        "id": "zKD4SbYGX5Tt"
      },
      "source": [
        "Y_train=df_train['Sentiment'].values"
      ],
      "execution_count": 14,
      "outputs": []
    },
    {
      "cell_type": "markdown",
      "metadata": {
        "id": "-bNrYCq1nzOK"
      },
      "source": [
        "one hot encoding. преобразовывем данные в матрицу"
      ]
    },
    {
      "cell_type": "code",
      "metadata": {
        "id": "3H3z7esLX78v"
      },
      "source": [
        "Y_train_f=to_categorical(Y_train)"
      ],
      "execution_count": 15,
      "outputs": []
    },
    {
      "cell_type": "code",
      "metadata": {
        "colab": {
          "base_uri": "https://localhost:8080/"
        },
        "id": "s-s8agR_X87l",
        "outputId": "d5d8aaaa-2c58-464f-ba33-ebc8089063bb"
      },
      "source": [
        "Y_train_f[:6]"
      ],
      "execution_count": 16,
      "outputs": [
        {
          "output_type": "execute_result",
          "data": {
            "text/plain": [
              "array([[0., 0., 0., 1., 0., 0.],\n",
              "       [0., 0., 0., 1., 0., 0.],\n",
              "       [0., 1., 0., 0., 0., 0.],\n",
              "       [0., 0., 1., 0., 0., 0.],\n",
              "       [0., 1., 0., 0., 0., 0.],\n",
              "       [0., 0., 0., 1., 0., 0.]], dtype=float32)"
            ]
          },
          "metadata": {
            "tags": []
          },
          "execution_count": 16
        }
      ]
    },
    {
      "cell_type": "code",
      "metadata": {
        "id": "u-8QlM_FYDZ0"
      },
      "source": [
        "X_val=df_val['Input']\n",
        "Y_val=df_val.Sentiment.replace({'joy':0,'anger':1,'love':2,'sadness':3,'fear':4,'surprise':5})"
      ],
      "execution_count": 17,
      "outputs": []
    },
    {
      "cell_type": "code",
      "metadata": {
        "id": "IPR0gw6iYFZ6"
      },
      "source": [
        "X_val_f=tokenizer.texts_to_sequences(X_val)\n",
        "X_val_pad=pad_sequences(X_val_f,maxlen=80,padding='post')"
      ],
      "execution_count": 18,
      "outputs": []
    },
    {
      "cell_type": "code",
      "metadata": {
        "id": "9BOC8fuTYHRB"
      },
      "source": [
        "Y_val_f=to_categorical(Y_val)"
      ],
      "execution_count": 19,
      "outputs": []
    },
    {
      "cell_type": "code",
      "metadata": {
        "colab": {
          "base_uri": "https://localhost:8080/"
        },
        "id": "JE7xWHOIYJY_",
        "outputId": "7e92a079-cf28-4d60-86f4-6497bee44245"
      },
      "source": [
        "Y_val_f[:6]"
      ],
      "execution_count": 20,
      "outputs": [
        {
          "output_type": "execute_result",
          "data": {
            "text/plain": [
              "array([[0., 0., 0., 1., 0., 0.],\n",
              "       [0., 0., 0., 1., 0., 0.],\n",
              "       [0., 0., 1., 0., 0., 0.],\n",
              "       [0., 1., 0., 0., 0., 0.],\n",
              "       [1., 0., 0., 0., 0., 0.],\n",
              "       [1., 0., 0., 0., 0., 0.]], dtype=float32)"
            ]
          },
          "metadata": {
            "tags": []
          },
          "execution_count": 20
        }
      ]
    },
    {
      "cell_type": "code",
      "metadata": {
        "id": "XijCvtfNYO3H"
      },
      "source": [
        "from keras.models import Sequential\n",
        "from keras.layers import LSTM,Bidirectional,Dense,Embedding,Dropout"
      ],
      "execution_count": 21,
      "outputs": []
    },
    {
      "cell_type": "markdown",
      "metadata": {
        "id": "Wb3XO4TpoG3A"
      },
      "source": [
        "Создаем модель нейронки"
      ]
    },
    {
      "cell_type": "code",
      "metadata": {
        "colab": {
          "base_uri": "https://localhost:8080/"
        },
        "id": "CT-HQVAQYSAu",
        "outputId": "47b8a087-1409-46c3-f515-70ca85326c63"
      },
      "source": [
        "model=Sequential()\n",
        "model.add(Embedding(15212,64,input_length=80))\n",
        "model.add(Dropout(0.6))\n",
        "model.add(Bidirectional(LSTM(80,return_sequences=True)))\n",
        "model.add(Bidirectional(LSTM(160)))\n",
        "model.add(Dense(6,activation='softmax'))\n",
        "print(model.summary())"
      ],
      "execution_count": 22,
      "outputs": [
        {
          "output_type": "stream",
          "text": [
            "Model: \"sequential\"\n",
            "_________________________________________________________________\n",
            "Layer (type)                 Output Shape              Param #   \n",
            "=================================================================\n",
            "embedding (Embedding)        (None, 80, 64)            973568    \n",
            "_________________________________________________________________\n",
            "dropout (Dropout)            (None, 80, 64)            0         \n",
            "_________________________________________________________________\n",
            "bidirectional (Bidirectional (None, 80, 160)           92800     \n",
            "_________________________________________________________________\n",
            "bidirectional_1 (Bidirection (None, 320)               410880    \n",
            "_________________________________________________________________\n",
            "dense (Dense)                (None, 6)                 1926      \n",
            "=================================================================\n",
            "Total params: 1,479,174\n",
            "Trainable params: 1,479,174\n",
            "Non-trainable params: 0\n",
            "_________________________________________________________________\n",
            "None\n"
          ],
          "name": "stdout"
        }
      ]
    },
    {
      "cell_type": "markdown",
      "metadata": {
        "id": "t3BA7iuvoVVk"
      },
      "source": [
        "Запускаем модель"
      ]
    },
    {
      "cell_type": "code",
      "metadata": {
        "id": "bH-UJoetYZr-"
      },
      "source": [
        "model.compile(optimizer='adam',loss='categorical_crossentropy',metrics=['accuracy'])"
      ],
      "execution_count": 23,
      "outputs": []
    },
    {
      "cell_type": "code",
      "metadata": {
        "colab": {
          "base_uri": "https://localhost:8080/"
        },
        "id": "0aILLAcxYdx3",
        "outputId": "f169300e-e3fb-4b4c-8b83-8c68ef5996e4"
      },
      "source": [
        "hist=model.fit(X_train_pad,Y_train_f,epochs=12,validation_data=(X_val_pad,Y_val_f))"
      ],
      "execution_count": 24,
      "outputs": [
        {
          "output_type": "stream",
          "text": [
            "Epoch 1/12\n",
            "500/500 [==============================] - 197s 384ms/step - loss: 1.4632 - accuracy: 0.4099 - val_loss: 0.7161 - val_accuracy: 0.7300\n",
            "Epoch 2/12\n",
            "500/500 [==============================] - 191s 383ms/step - loss: 0.5743 - accuracy: 0.7784 - val_loss: 0.3444 - val_accuracy: 0.8770\n",
            "Epoch 3/12\n",
            "500/500 [==============================] - 193s 385ms/step - loss: 0.3162 - accuracy: 0.8908 - val_loss: 0.2278 - val_accuracy: 0.9175\n",
            "Epoch 4/12\n",
            "500/500 [==============================] - 192s 383ms/step - loss: 0.2223 - accuracy: 0.9230 - val_loss: 0.2310 - val_accuracy: 0.9200\n",
            "Epoch 5/12\n",
            "500/500 [==============================] - 192s 385ms/step - loss: 0.1777 - accuracy: 0.9379 - val_loss: 0.1959 - val_accuracy: 0.9345\n",
            "Epoch 6/12\n",
            "500/500 [==============================] - 192s 384ms/step - loss: 0.1373 - accuracy: 0.9491 - val_loss: 0.2050 - val_accuracy: 0.9260\n",
            "Epoch 7/12\n",
            "500/500 [==============================] - 191s 383ms/step - loss: 0.1217 - accuracy: 0.9534 - val_loss: 0.1945 - val_accuracy: 0.9280\n",
            "Epoch 8/12\n",
            "500/500 [==============================] - 192s 384ms/step - loss: 0.1032 - accuracy: 0.9608 - val_loss: 0.2061 - val_accuracy: 0.9270\n",
            "Epoch 9/12\n",
            "500/500 [==============================] - 192s 384ms/step - loss: 0.0826 - accuracy: 0.9688 - val_loss: 0.1940 - val_accuracy: 0.9265\n",
            "Epoch 10/12\n",
            "500/500 [==============================] - 191s 382ms/step - loss: 0.0820 - accuracy: 0.9675 - val_loss: 0.1874 - val_accuracy: 0.9310\n",
            "Epoch 11/12\n",
            "500/500 [==============================] - 192s 384ms/step - loss: 0.0634 - accuracy: 0.9774 - val_loss: 0.2027 - val_accuracy: 0.9300\n",
            "Epoch 12/12\n",
            "500/500 [==============================] - 192s 383ms/step - loss: 0.0689 - accuracy: 0.9737 - val_loss: 0.2017 - val_accuracy: 0.9305\n"
          ],
          "name": "stdout"
        }
      ]
    },
    {
      "cell_type": "markdown",
      "metadata": {
        "id": "ZHNzm__loc8C"
      },
      "source": [
        "Строим графики потерь и точности"
      ]
    },
    {
      "cell_type": "code",
      "metadata": {
        "colab": {
          "base_uri": "https://localhost:8080/",
          "height": 265
        },
        "id": "52N4S_tPjK6W",
        "outputId": "96616c66-fb0b-4e60-b340-7f41c78e127b"
      },
      "source": [
        "plt.plot(hist.history['accuracy'],c='b',label='train')\n",
        "plt.plot(hist.history['val_accuracy'],c='r',label='validation')\n",
        "plt.legend(loc='lower right')\n",
        "plt.show()"
      ],
      "execution_count": 25,
      "outputs": [
        {
          "output_type": "display_data",
          "data": {
            "image/png": "[encoded data removed]",
            "text/plain": [
              "<Figure size 432x288 with 1 Axes>"
            ]
          },
          "metadata": {
            "tags": [],
            "needs_background": "light"
          }
        }
      ]
    },
    {
      "cell_type": "code",
      "metadata": {
        "colab": {
          "base_uri": "https://localhost:8080/",
          "height": 265
        },
        "id": "jx4mCfVnjNKl",
        "outputId": "b742194b-0c85-45c6-de67-1826967dc809"
      },
      "source": [
        "plt.plot(hist.history['loss'],c='orange',label='train')\n",
        "plt.plot(hist.history['val_loss'],c='g',label='validation')\n",
        "plt.legend(loc='upper right')\n",
        "plt.show()"
      ],
      "execution_count": 26,
      "outputs": [
        {
          "output_type": "display_data",
          "data": {
            "image/png": "[encoded data removed]",
            "text/plain": [
              "<Figure size 432x288 with 1 Axes>"
            ]
          },
          "metadata": {
            "tags": [],
            "needs_background": "light"
          }
        }
      ]
    },
    {
      "cell_type": "markdown",
      "metadata": {
        "id": "lWQ5N1X7ornM"
      },
      "source": [
        "Проверка тестовых данных"
      ]
    },
    {
      "cell_type": "code",
      "metadata": {
        "id": "oruZ4ewLjQl0"
      },
      "source": [
        "X_test=df_test['Input']\n",
        "Y_test=df_test.Sentiment.replace({'joy':0,'anger':1,'love':2,'sadness':3,'fear':4,'surprise':5})"
      ],
      "execution_count": 27,
      "outputs": []
    },
    {
      "cell_type": "code",
      "metadata": {
        "id": "XL37LLt9jTrP"
      },
      "source": [
        "X_test_f=tokenizer.texts_to_sequences(X_test)\n",
        "X_test_pad=pad_sequences(X_test_f,maxlen=80,padding='post')"
      ],
      "execution_count": 28,
      "outputs": []
    },
    {
      "cell_type": "code",
      "metadata": {
        "id": "HfoMx0RojWM2"
      },
      "source": [
        "Y_test_f=to_categorical(Y_test)"
      ],
      "execution_count": 29,
      "outputs": []
    },
    {
      "cell_type": "code",
      "metadata": {
        "colab": {
          "base_uri": "https://localhost:8080/"
        },
        "id": "YvCMb6i2jZ9l",
        "outputId": "ff203c3a-74b4-4185-ad65-1a1a26dfc7de"
      },
      "source": [
        "X_test_pad.shape"
      ],
      "execution_count": 30,
      "outputs": [
        {
          "output_type": "execute_result",
          "data": {
            "text/plain": [
              "(2000, 80)"
            ]
          },
          "metadata": {
            "tags": []
          },
          "execution_count": 30
        }
      ]
    },
    {
      "cell_type": "code",
      "metadata": {
        "colab": {
          "base_uri": "https://localhost:8080/"
        },
        "id": "5n-dCEU8jbYQ",
        "outputId": "2f91a835-7d9c-48a6-c8fd-b50eb17eda07"
      },
      "source": [
        "Y_test_f[:7]"
      ],
      "execution_count": 31,
      "outputs": [
        {
          "output_type": "execute_result",
          "data": {
            "text/plain": [
              "array([[0., 0., 0., 1., 0., 0.],\n",
              "       [0., 0., 0., 1., 0., 0.],\n",
              "       [0., 0., 0., 1., 0., 0.],\n",
              "       [1., 0., 0., 0., 0., 0.],\n",
              "       [0., 0., 0., 1., 0., 0.],\n",
              "       [0., 0., 0., 0., 1., 0.],\n",
              "       [0., 1., 0., 0., 0., 0.]], dtype=float32)"
            ]
          },
          "metadata": {
            "tags": []
          },
          "execution_count": 31
        }
      ]
    },
    {
      "cell_type": "markdown",
      "metadata": {
        "id": "4lnXsApMo3DN"
      },
      "source": [
        "Точность тестовых данных"
      ]
    },
    {
      "cell_type": "code",
      "metadata": {
        "colab": {
          "base_uri": "https://localhost:8080/"
        },
        "id": "wTzr4DVljguC",
        "outputId": "2291067b-262f-4dd8-add4-e6c78bc57624"
      },
      "source": [
        "model.evaluate(X_test_pad,Y_test_f)"
      ],
      "execution_count": 32,
      "outputs": [
        {
          "output_type": "stream",
          "text": [
            "63/63 [==============================] - 7s 112ms/step - loss: 0.1937 - accuracy: 0.9255\n"
          ],
          "name": "stdout"
        },
        {
          "output_type": "execute_result",
          "data": {
            "text/plain": [
              "[0.19372963905334473, 0.9254999756813049]"
            ]
          },
          "metadata": {
            "tags": []
          },
          "execution_count": 32
        }
      ]
    },
    {
      "cell_type": "markdown",
      "metadata": {
        "id": "TjsY18jSqQlL"
      },
      "source": [
        "Построение матрицы путаницы(хз нужно ли)"
      ]
    },
    {
      "cell_type": "code",
      "metadata": {
        "id": "WpA1e95Ojnj0"
      },
      "source": [
        "Y_pred=np.argmax(model.predict(X_test_pad), axis=-1)\n"
      ],
      "execution_count": 33,
      "outputs": []
    },
    {
      "cell_type": "code",
      "metadata": {
        "colab": {
          "base_uri": "https://localhost:8080/",
          "height": 312
        },
        "id": "aHJ8WDkpjtQH",
        "outputId": "d4e78e28-a92a-4d1b-ac32-9a76590bfae4"
      },
      "source": [
        "plot_confusion_matrix(Y_test,Y_pred)"
      ],
      "execution_count": 34,
      "outputs": [
        {
          "output_type": "execute_result",
          "data": {
            "text/plain": [
              "<matplotlib.axes._subplots.AxesSubplot at 0x7f7c2d444e80>"
            ]
          },
          "metadata": {
            "tags": []
          },
          "execution_count": 34
        },
        {
          "output_type": "display_data",
          "data": {
            "image/png": "[encoded data removed]",
            "text/plain": [
              "<Figure size 432x288 with 2 Axes>"
            ]
          },
          "metadata": {
            "tags": [],
            "needs_background": "light"
          }
        }
      ]
    },
    {
      "cell_type": "code",
      "metadata": {
        "colab": {
          "base_uri": "https://localhost:8080/"
        },
        "id": "SszfNbFrjw0J",
        "outputId": "cfbe25ff-faed-435b-d584-07fbea2e65dd"
      },
      "source": [
        "print(classification_report(Y_test,Y_pred))"
      ],
      "execution_count": 35,
      "outputs": [
        {
          "output_type": "stream",
          "text": [
            "              precision    recall  f1-score   support\n",
            "\n",
            "           0       0.94      0.95      0.94       695\n",
            "           1       0.93      0.91      0.92       275\n",
            "           2       0.84      0.79      0.82       159\n",
            "           3       0.97      0.97      0.97       581\n",
            "           4       0.90      0.88      0.89       224\n",
            "           5       0.70      0.85      0.77        66\n",
            "\n",
            "    accuracy                           0.93      2000\n",
            "   macro avg       0.88      0.89      0.88      2000\n",
            "weighted avg       0.93      0.93      0.93      2000\n",
            "\n"
          ],
          "name": "stdout"
        }
      ]
    },
    {
      "cell_type": "markdown",
      "metadata": {
        "id": "a8ApbEFEqCeT"
      },
      "source": [
        "Финалочка"
      ]
    },
    {
      "cell_type": "code",
      "metadata": {
        "id": "na4b51J3jz1r"
      },
      "source": [
        "def get_key(value):\n",
        "    dictionary={'😋':0,'😡':1,'😍':2,'😪':3,'😰':4,'🤪':5}\n",
        "    for key,val in dictionary.items():\n",
        "          if (val==value):\n",
        "            return key"
      ],
      "execution_count": 43,
      "outputs": []
    },
    {
      "cell_type": "code",
      "metadata": {
        "id": "1cHoS2rij5T6"
      },
      "source": [
        "def predict(sentence):\n",
        "  sentence_lst=[]\n",
        "  sentence_lst.append(sentence)\n",
        "  sentence_seq=tokenizer.texts_to_sequences(sentence_lst)\n",
        "  sentence_padded=pad_sequences(sentence_seq,maxlen=80,padding='post')\n",
        "  ans=get_key(np.argmax(sentence_padded))\n",
        "  print(sentence,ans)"
      ],
      "execution_count": 44,
      "outputs": []
    },
    {
      "cell_type": "code",
      "metadata": {
        "colab": {
          "base_uri": "https://localhost:8080/"
        },
        "id": "bHDJrMOMkG-I",
        "outputId": "ffdaeafc-ce4d-4c83-b481-8cb67fb9c4f9"
      },
      "source": [
        "predict(str(input('Enter a massage : ')))"
      ],
      "execution_count": 45,
      "outputs": [
        {
          "output_type": "stream",
          "text": [
            "Enter a massage : sex\n",
            "sex 😋\n"
          ],
          "name": "stdout"
        }
      ]
    },
    {
      "cell_type": "code",
      "metadata": {
        "colab": {
          "base_uri": "https://localhost:8080/"
        },
        "id": "NV_OPUEX2gxc",
        "outputId": "1cdd2b0d-5c13-407c-b296-f8e254089d48"
      },
      "source": [
        "predict(str(input('Enter a massage : ')))\n"
      ],
      "execution_count": null,
      "outputs": [
        {
          "output_type": "stream",
          "text": [
            "Enter a massage : i feel inspired\n",
            "i feel inspired 😍\n"
          ],
          "name": "stdout"
        }
      ]
    }
  ]
}